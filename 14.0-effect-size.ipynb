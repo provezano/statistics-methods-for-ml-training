{
 "cells": [
  {
   "cell_type": "markdown",
   "id": "1b76506c",
   "metadata": {},
   "source": [
    "### Libraries"
   ]
  },
  {
   "cell_type": "code",
   "execution_count": 1,
   "id": "037ad169",
   "metadata": {},
   "outputs": [],
   "source": [
    "import numpy as np\n",
    "from scipy.stats import pearsonr"
   ]
  },
  {
   "cell_type": "markdown",
   "id": "5e41937c",
   "metadata": {},
   "source": [
    "### Set up"
   ]
  },
  {
   "cell_type": "code",
   "execution_count": 2,
   "id": "db4c63ae",
   "metadata": {},
   "outputs": [],
   "source": [
    "np.random.seed(1)"
   ]
  },
  {
   "cell_type": "code",
   "execution_count": 3,
   "id": "d4baf4fe",
   "metadata": {},
   "outputs": [],
   "source": [
    "data1 = 10 * np.random.randn(10000) + 50\n",
    "data2 = data1 + (10 * np.random.randn(10000) + 50)"
   ]
  },
  {
   "cell_type": "markdown",
   "id": "6066cddd",
   "metadata": {},
   "source": [
    "### Pearson's correlation coefficient"
   ]
  },
  {
   "cell_type": "code",
   "execution_count": 4,
   "id": "f1a85228",
   "metadata": {},
   "outputs": [
    {
     "name": "stdout",
     "output_type": "stream",
     "text": [
      "Pearsons correlation: 0.712\n"
     ]
    }
   ],
   "source": [
    "corr, _ = pearsonr(data1, data2)\n",
    "print('Pearsons correlation: {:.3f}'.format(corr))"
   ]
  },
  {
   "cell_type": "markdown",
   "id": "7fc21d5c",
   "metadata": {},
   "source": [
    "### Cohen's d"
   ]
  },
  {
   "cell_type": "code",
   "execution_count": 23,
   "id": "a777b52a",
   "metadata": {},
   "outputs": [],
   "source": [
    "def cohend(d1, d2):\n",
    "    n1, n2 = len(d1), len(d2)\n",
    "    s1, s2 = np.var(d1, ddof=1), np.var(d2, ddof=1)\n",
    "    s = np.sqrt(((n1 - 1) * s1 + (n2 - 1) * s2) / (n1 + n2 - 2))\n",
    "    u1, u2 = np.mean(d1), np.mean(d2)\n",
    "    \n",
    "    return (u1 - u2) / s"
   ]
  },
  {
   "cell_type": "code",
   "execution_count": 24,
   "id": "009896e7",
   "metadata": {},
   "outputs": [],
   "source": [
    "data1 = 10 * np.random.randn(10000) + 60\n",
    "data2 = 10 * np.random.randn(10000) + 55"
   ]
  },
  {
   "cell_type": "code",
   "execution_count": 25,
   "id": "65c27290",
   "metadata": {},
   "outputs": [
    {
     "name": "stdout",
     "output_type": "stream",
     "text": [
      "Cohens d: 0.502\n"
     ]
    }
   ],
   "source": [
    "d = cohend(data1, data2)\n",
    "print('Cohens d: {:.3f}'.format(d))"
   ]
  },
  {
   "cell_type": "code",
   "execution_count": null,
   "id": "617205f0",
   "metadata": {},
   "outputs": [],
   "source": []
  }
 ],
 "metadata": {
  "kernelspec": {
   "display_name": "Python 3 (ipykernel)",
   "language": "python",
   "name": "python3"
  },
  "language_info": {
   "codemirror_mode": {
    "name": "ipython",
    "version": 3
   },
   "file_extension": ".py",
   "mimetype": "text/x-python",
   "name": "python",
   "nbconvert_exporter": "python",
   "pygments_lexer": "ipython3",
   "version": "3.10.4"
  }
 },
 "nbformat": 4,
 "nbformat_minor": 5
}
