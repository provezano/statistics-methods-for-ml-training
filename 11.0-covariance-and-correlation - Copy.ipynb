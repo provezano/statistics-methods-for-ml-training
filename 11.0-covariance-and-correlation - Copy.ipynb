{
 "cells": [
  {
   "cell_type": "markdown",
   "id": "48c42e1c",
   "metadata": {},
   "source": [
    "## Libraries"
   ]
  },
  {
   "cell_type": "code",
   "execution_count": 28,
   "id": "2fdbf862",
   "metadata": {},
   "outputs": [],
   "source": [
    "import numpy as np\n",
    "from scipy.stats import pearsonr\n",
    "import matplotlib.pyplot as plt"
   ]
  },
  {
   "cell_type": "markdown",
   "id": "d4e84492",
   "metadata": {},
   "source": [
    "## Synthetic Data Generation"
   ]
  },
  {
   "cell_type": "code",
   "execution_count": 17,
   "id": "9817c817",
   "metadata": {},
   "outputs": [],
   "source": [
    "np.random.seed(1)\n",
    "\n",
    "data1 = 20 * np.random.randn(1000) + 10\n",
    "data2 = data1 + (10 * np.random.randn(1000) + 50)"
   ]
  },
  {
   "cell_type": "markdown",
   "id": "cdb87a13",
   "metadata": {},
   "source": [
    "## Data Visualization"
   ]
  },
  {
   "cell_type": "code",
   "execution_count": 25,
   "id": "8054ca43",
   "metadata": {},
   "outputs": [
    {
     "name": "stdout",
     "output_type": "stream",
     "text": [
      "data1  9.45 (19.78)\n",
      "data2 58.86 (22.23)\n"
     ]
    },
    {
     "data": {
      "image/png": "[encoded data removed]",
      "text/plain": [
       "<Figure size 432x288 with 1 Axes>"
      ]
     },
     "metadata": {
      "needs_background": "light"
     },
     "output_type": "display_data"
    }
   ],
   "source": [
    "print('data1 {:5.2f} ({:.2f})\\ndata2 {:.2f} ({:.2f})'.format(np.mean(data1), np.std(data1),\n",
    "                                                          np.mean(data2), np.std(data2)))\n",
    "\n",
    "plt.scatter(data1, data2)\n",
    "plt.show();"
   ]
  },
  {
   "cell_type": "markdown",
   "id": "c217f86a",
   "metadata": {},
   "source": [
    "## Covariance"
   ]
  },
  {
   "cell_type": "code",
   "execution_count": 26,
   "id": "af991025",
   "metadata": {},
   "outputs": [
    {
     "name": "stdout",
     "output_type": "stream",
     "text": [
      "[[391.53504069 392.5410623 ]\n",
      " [392.5410623  494.70361807]]\n"
     ]
    }
   ],
   "source": [
    "covariance = np.cov(data1, data2)\n",
    "print(covariance)"
   ]
  },
  {
   "cell_type": "markdown",
   "id": "3d1c8a4b",
   "metadata": {},
   "source": [
    "## Pearson's Correlation"
   ]
  },
  {
   "cell_type": "code",
   "execution_count": 35,
   "id": "b1b55dcb",
   "metadata": {},
   "outputs": [
    {
     "name": "stdout",
     "output_type": "stream",
     "text": [
      "Pearson's correlation: 0.89 - p-value: 0.0\n"
     ]
    }
   ],
   "source": [
    "corr, p = pearsonr(data1, data2)\n",
    "\n",
    "print('Pearson\\'s correlation: {:.2f} - p-value: {}'.format(corr, p))"
   ]
  }
 ],
 "metadata": {
  "kernelspec": {
   "display_name": "Python 3 (ipykernel)",
   "language": "python",
   "name": "python3"
  },
  "language_info": {
   "codemirror_mode": {
    "name": "ipython",
    "version": 3
   },
   "file_extension": ".py",
   "mimetype": "text/x-python",
   "name": "python",
   "nbconvert_exporter": "python",
   "pygments_lexer": "ipython3",
   "version": "3.8.13"
  }
 },
 "nbformat": 4,
 "nbformat_minor": 5
}
