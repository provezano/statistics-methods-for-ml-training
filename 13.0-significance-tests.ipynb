{
 "cells": [
  {
   "cell_type": "markdown",
   "id": "2bad4555",
   "metadata": {},
   "source": [
    "### Libraries"
   ]
  },
  {
   "cell_type": "code",
   "execution_count": 17,
   "id": "aab92390",
   "metadata": {},
   "outputs": [],
   "source": [
    "import numpy as np\n",
    "from scipy.stats import ttest_ind, ttest_rel, f_oneway"
   ]
  },
  {
   "cell_type": "markdown",
   "id": "3cad6df9",
   "metadata": {},
   "source": [
    "### Set up"
   ]
  },
  {
   "cell_type": "code",
   "execution_count": 2,
   "id": "5593b789",
   "metadata": {},
   "outputs": [],
   "source": [
    "np.random.seed(1)"
   ]
  },
  {
   "cell_type": "code",
   "execution_count": 14,
   "id": "1a5e1192",
   "metadata": {},
   "outputs": [],
   "source": [
    "data1 = 5 * np.random.randn(100) + 50\n",
    "data2 = 5 * np.random.randn(100) + 51\n",
    "data3 = 5 * np.random.randn(100) + 52"
   ]
  },
  {
   "cell_type": "code",
   "execution_count": 15,
   "id": "68226575",
   "metadata": {},
   "outputs": [
    {
     "name": "stdout",
     "output_type": "stream",
     "text": [
      "data1: mean=50.049 stdev=5.025\n",
      "data2: mean=50.898 stdev=5.322\n",
      "data3: mean=52.322 stdev=5.178\n"
     ]
    }
   ],
   "source": [
    "print('data1: mean={:.3f} stdev={:.3f}'.format(np.mean(data1), np.std(data1)))\n",
    "print('data2: mean={:.3f} stdev={:.3f}'.format(np.mean(data2), np.std(data2)))\n",
    "print('data3: mean={:.3f} stdev={:.3f}'.format(np.mean(data3), np.std(data3)))"
   ]
  },
  {
   "cell_type": "markdown",
   "id": "e2abf1f0",
   "metadata": {},
   "source": [
    "### Student's t-test"
   ]
  },
  {
   "cell_type": "code",
   "execution_count": 12,
   "id": "3433ff69",
   "metadata": {},
   "outputs": [
    {
     "name": "stdout",
     "output_type": "stream",
     "text": [
      "statistics=-2.262 p=0.025\n",
      "Different distributions (reject H0)\n"
     ]
    }
   ],
   "source": [
    "stat, p = ttest_ind(data1, data2)\n",
    "print('statistics={:.3f} p={:.3f}'.format(stat, p))\n",
    "\n",
    "alpha = 0.05\n",
    "\n",
    "if p > alpha:\n",
    "    print('Same distributions (fail to reject H0)')\n",
    "else:\n",
    "    print('Different distributions (reject H0)')"
   ]
  },
  {
   "cell_type": "markdown",
   "id": "ce63a270",
   "metadata": {},
   "source": [
    "### Paired Student's t-test"
   ]
  },
  {
   "cell_type": "code",
   "execution_count": 13,
   "id": "748bde86",
   "metadata": {},
   "outputs": [
    {
     "name": "stdout",
     "output_type": "stream",
     "text": [
      "statistics=-2.372 p=0.020\n",
      "Different distributions (reject H0)\n"
     ]
    }
   ],
   "source": [
    "stat, p = ttest_rel(data1, data2)\n",
    "print('statistics={:.3f} p={:.3f}'.format(stat, p))\n",
    "\n",
    "alpha = 0.05\n",
    "\n",
    "if p > alpha:\n",
    "    print('Same distributions (fail to reject H0)')\n",
    "else:\n",
    "    print('Different distributions (reject H0)')"
   ]
  },
  {
   "cell_type": "markdown",
   "id": "163111e2",
   "metadata": {},
   "source": [
    "### ANOVA"
   ]
  },
  {
   "cell_type": "code",
   "execution_count": 21,
   "id": "b6017e5f",
   "metadata": {},
   "outputs": [
    {
     "name": "stdout",
     "output_type": "stream",
     "text": [
      "statistics=6.614 p=0.002\n",
      "Different distributions (reject H0)\n"
     ]
    }
   ],
   "source": [
    "stat, p = f_oneway(data1, data1, data3)\n",
    "print('statistics={:.3f} p={:.3f}'.format(stat, p))\n",
    "\n",
    "alpha = 0.05\n",
    "\n",
    "if p > alpha:\n",
    "    print('Same distributions (fail to reject H0)')\n",
    "else:\n",
    "    print('Different distributions (reject H0)')"
   ]
  },
  {
   "cell_type": "markdown",
   "id": "5d07f497",
   "metadata": {},
   "source": [
    "### Repeated measures ANOVA test"
   ]
  }
 ],
 "metadata": {
  "kernelspec": {
   "display_name": "Python 3 (ipykernel)",
   "language": "python",
   "name": "python3"
  },
  "language_info": {
   "codemirror_mode": {
    "name": "ipython",
    "version": 3
   },
   "file_extension": ".py",
   "mimetype": "text/x-python",
   "name": "python",
   "nbconvert_exporter": "python",
   "pygments_lexer": "ipython3",
   "version": "3.10.4"
  }
 },
 "nbformat": 4,
 "nbformat_minor": 5
}
