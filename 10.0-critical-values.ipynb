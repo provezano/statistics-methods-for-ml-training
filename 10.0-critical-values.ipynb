{
 "cells": [
  {
   "cell_type": "markdown",
   "id": "213c41ba",
   "metadata": {},
   "source": [
    "## Libraries"
   ]
  },
  {
   "cell_type": "code",
   "execution_count": 6,
   "id": "df30e34d",
   "metadata": {},
   "outputs": [],
   "source": [
    "from scipy.stats import norm, t, chi2"
   ]
  },
  {
   "cell_type": "markdown",
   "id": "08f9a816",
   "metadata": {},
   "source": [
    "## Critical Values"
   ]
  },
  {
   "cell_type": "markdown",
   "id": "1ec02fc9",
   "metadata": {},
   "source": [
    "### Normal Distribution"
   ]
  },
  {
   "cell_type": "code",
   "execution_count": 3,
   "id": "a9bb8e9c",
   "metadata": {},
   "outputs": [
    {
     "name": "stdout",
     "output_type": "stream",
     "text": [
      "1.6448536269514722\n",
      "0.95\n"
     ]
    }
   ],
   "source": [
    "p = 0.95\n",
    "\n",
    "value = norm.ppf(p)\n",
    "print(value)\n",
    "\n",
    "p = norm.cdf(value)\n",
    "print(p)"
   ]
  },
  {
   "cell_type": "markdown",
   "id": "2e19bfb4",
   "metadata": {},
   "source": [
    "### Student's-t Distribution"
   ]
  },
  {
   "cell_type": "code",
   "execution_count": 8,
   "id": "5204e579",
   "metadata": {},
   "outputs": [
    {
     "name": "stdout",
     "output_type": "stream",
     "text": [
      "1.8124611228107335\n",
      "0.949999999999923\n"
     ]
    }
   ],
   "source": [
    "p = 0.95\n",
    "df = 10\n",
    "\n",
    "value = t.ppf(p, df)\n",
    "print(value)\n",
    "\n",
    "p = t.cdf(value, df)\n",
    "print(p)"
   ]
  },
  {
   "cell_type": "markdown",
   "id": "49a9f50f",
   "metadata": {},
   "source": [
    "### Chi^2 Distribution"
   ]
  },
  {
   "cell_type": "code",
   "execution_count": 9,
   "id": "c2eacb94",
   "metadata": {},
   "outputs": [
    {
     "name": "stdout",
     "output_type": "stream",
     "text": [
      "18.307038053275146\n",
      "0.95\n"
     ]
    }
   ],
   "source": [
    "p = 0.95\n",
    "df = 10\n",
    "\n",
    "value = chi2.ppf(p, df)\n",
    "print(value)\n",
    "\n",
    "p = chi2.cdf(value, df)\n",
    "print(p)"
   ]
  }
 ],
 "metadata": {
  "kernelspec": {
   "display_name": "Python 3 (ipykernel)",
   "language": "python",
   "name": "python3"
  },
  "language_info": {
   "codemirror_mode": {
    "name": "ipython",
    "version": 3
   },
   "file_extension": ".py",
   "mimetype": "text/x-python",
   "name": "python",
   "nbconvert_exporter": "python",
   "pygments_lexer": "ipython3",
   "version": "3.8.13"
  }
 },
 "nbformat": 4,
 "nbformat_minor": 5
}
