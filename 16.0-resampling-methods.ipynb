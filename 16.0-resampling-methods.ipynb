{
 "cells": [
  {
   "cell_type": "markdown",
   "id": "2bbe02bf",
   "metadata": {},
   "source": [
    "# Resampling"
   ]
  },
  {
   "cell_type": "markdown",
   "id": "79920ec9",
   "metadata": {},
   "source": [
    "Concepts\n",
    "    \n",
    "* Sample: the statistical process related to get a portion of the population with intent to make inferences about population parameters.\n",
    "* Resample: refers to methods for using data sample to make to improve the estimate of the population parameter anad help quantify the uncertainty of the estimate."
   ]
  },
  {
   "cell_type": "markdown",
   "id": "a0f8bc68",
   "metadata": {},
   "source": [
    "## Sampling"
   ]
  },
  {
   "cell_type": "markdown",
   "id": "4289b285",
   "metadata": {},
   "source": [
    "Aspects to consider prior to collecting a data sample\n",
    "\n",
    "* Sample goal\n",
    "* Population\n",
    "* Selection criteria\n",
    "* Sample size"
   ]
  },
  {
   "cell_type": "markdown",
   "id": "ca848c67",
   "metadata": {},
   "source": [
    "Three common types of sampling in applied ML\n",
    "\n",
    "1. Simple random sampling\n",
    "2. Systematic sampling\n",
    "3. Stratified sampling"
   ]
  },
  {
   "cell_type": "markdown",
   "id": "908e26d2",
   "metadata": {},
   "source": [
    "We can generalize estimations from a sample to the population, but this process will contain errors. Usually, we can quantify those errors using some statistical methods (eg. confidence intervals).\n",
    "\n",
    "Types of sampling errors\n",
    "\n",
    "* Selection bias\n",
    "* Sampling error"
   ]
  },
  {
   "cell_type": "markdown",
   "id": "bb6c529c",
   "metadata": {},
   "source": [
    "## Resampling"
   ]
  },
  {
   "cell_type": "markdown",
   "id": "dd1f9b56",
   "metadata": {},
   "source": [
    "Once we have a data sample we can make estimations about the population, but we have little idea about the uncertainty of the estimations we have. Resampling allows us to make estimations several times to have an idea about uncertainty."
   ]
  },
  {
   "cell_type": "markdown",
   "id": "642bdfeb",
   "metadata": {},
   "source": [
    "Two common resampling methods\n",
    "\n",
    "* $k$-fold cross-validation: dataset is partitioned into $k$ groups.\n",
    "* Bootstrap: samples drawn from the dataset with replacement."
   ]
  },
  {
   "cell_type": "markdown",
   "id": "eee0efd2",
   "metadata": {},
   "source": [
    "### Bootstrap"
   ]
  },
  {
   "cell_type": "markdown",
   "id": "f940a960",
   "metadata": {},
   "source": [
    "Procedure\n",
    "\n",
    "1. Choose the size of the sample\n",
    "2. While the size of the sample is less than the chosen size\n",
    "    1. Randomly select an observation from the dataset and add it to the sample"
   ]
  },
  {
   "cell_type": "code",
   "execution_count": 5,
   "id": "8a6a9226",
   "metadata": {},
   "outputs": [
    {
     "name": "stdout",
     "output_type": "stream",
     "text": [
      "[0.6, 0.4, 0.5, 0.1] [0.2, 0.3]\n"
     ]
    }
   ],
   "source": [
    "from sklearn.utils import resample\n",
    "\n",
    "data_sample = [0.1, 0.2, 0.3, 0.4, 0.5, 0.6]\n",
    "boot = resample(data_sample, replace=True, n_samples=4, random_state=1)\n",
    "oob = [x for x in data_sample if x not in boot]\n",
    "print(boot, oob)"
   ]
  },
  {
   "cell_type": "markdown",
   "id": "fb9d1d5a",
   "metadata": {},
   "source": [
    "### $k$-fold cross-validation"
   ]
  },
  {
   "cell_type": "markdown",
   "id": "b9c887cc",
   "metadata": {},
   "source": [
    "Procedure\n",
    "\n",
    "1. Shuffle the dataset randomly\n",
    "2. Split the dataset into $k$ groups\n",
    "3. For each unique group\n",
    "    1. Take the group as a hold out (test set) and the remainder groups as training set\n",
    "    2. Fit a model on the training set and evaluate on test set\n",
    "    3. Retain the evaluate score and discard the model\n",
    "4. Summarize the skill of the model"
   ]
  },
  {
   "cell_type": "code",
   "execution_count": 8,
   "id": "1d5c3632",
   "metadata": {},
   "outputs": [
    {
     "name": "stdout",
     "output_type": "stream",
     "text": [
      "train: [0.1 0.4 0.5 0.6] test: [0.2 0.3]\n",
      "train: [0.2 0.3 0.4 0.6] test: [0.1 0.5]\n",
      "train: [0.1 0.2 0.3 0.5] test: [0.4 0.6]\n"
     ]
    }
   ],
   "source": [
    "import numpy as np\n",
    "from sklearn.model_selection import KFold\n",
    "\n",
    "data = np.array([0.1, 0.2, 0.3, 0.4, 0.5, 0.6])\n",
    "kfold = KFold(n_splits=3, shuffle=True, random_state=1)\n",
    "\n",
    "for train, test in kfold.split(data):\n",
    "    print('train: %s test: %s' % (data[train], data[test]))"
   ]
  }
 ],
 "metadata": {
  "kernelspec": {
   "display_name": "Python 3 (ipykernel)",
   "language": "python",
   "name": "python3"
  },
  "language_info": {
   "codemirror_mode": {
    "name": "ipython",
    "version": 3
   },
   "file_extension": ".py",
   "mimetype": "text/x-python",
   "name": "python",
   "nbconvert_exporter": "python",
   "pygments_lexer": "ipython3",
   "version": "3.10.4"
  }
 },
 "nbformat": 4,
 "nbformat_minor": 5
}
